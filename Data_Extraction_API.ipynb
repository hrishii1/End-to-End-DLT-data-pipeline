{
 "cells": [
  {
   "cell_type": "code",
   "execution_count": 5,
   "id": "521db5f8",
   "metadata": {},
   "outputs": [
    {
     "name": "stdout",
     "output_type": "stream",
     "text": [
      "Name: charmander\n",
      "Height: 6\n",
      "Weight: 85\n",
      "Base experience: 62\n"
     ]
    }
   ],
   "source": [
    "import requests\n",
    "\n",
    "# API endpoint for Pikachu\n",
    "url = \"https://pokeapi.co/api/v2/pokemon/charmander\"\n",
    "\n",
    "# Send GET request\n",
    "response = requests.get(url)\n",
    "\n",
    "# Check if request was successful\n",
    "if response.status_code == 200:\n",
    "    data = response.json()  # Convert JSON to Python dict\n",
    "    print(\"Name:\", data[\"name\"])\n",
    "    print(\"Height:\", data[\"height\"])\n",
    "    print(\"Weight:\", data[\"weight\"])\n",
    "    print(\"Base experience:\", data[\"base_experience\"])\n",
    "else:\n",
    "    print(\"Error:\", response.status_code)\n"
   ]
  },
  {
   "cell_type": "code",
   "execution_count": 6,
   "id": "97331980",
   "metadata": {},
   "outputs": [
    {
     "name": "stdout",
     "output_type": "stream",
     "text": [
      "bulbasaur - https://pokeapi.co/api/v2/pokemon/1/\n",
      "ivysaur - https://pokeapi.co/api/v2/pokemon/2/\n",
      "venusaur - https://pokeapi.co/api/v2/pokemon/3/\n",
      "charmander - https://pokeapi.co/api/v2/pokemon/4/\n",
      "charmeleon - https://pokeapi.co/api/v2/pokemon/5/\n",
      "charizard - https://pokeapi.co/api/v2/pokemon/6/\n",
      "squirtle - https://pokeapi.co/api/v2/pokemon/7/\n",
      "wartortle - https://pokeapi.co/api/v2/pokemon/8/\n",
      "blastoise - https://pokeapi.co/api/v2/pokemon/9/\n",
      "caterpie - https://pokeapi.co/api/v2/pokemon/10/\n"
     ]
    }
   ],
   "source": [
    "import requests\n",
    "\n",
    "url = \"https://pokeapi.co/api/v2/pokemon?limit=10\"  # Get first 10 Pokémon\n",
    "response = requests.get(url)\n",
    "\n",
    "if response.status_code == 200:\n",
    "    data = response.json()\n",
    "    for pokemon in data[\"results\"]:\n",
    "        print(pokemon[\"name\"], \"-\", pokemon[\"url\"])\n",
    "else:\n",
    "    print(\"Error:\", response.status_code)\n"
   ]
  },
  {
   "cell_type": "code",
   "execution_count": 7,
   "id": "eadd0689",
   "metadata": {},
   "outputs": [
    {
     "name": "stdout",
     "output_type": "stream",
     "text": [
      "Data saved to pokemon_list.csv\n"
     ]
    }
   ],
   "source": [
    "import csv\n",
    "\n",
    "# Save Pokémon names and URLs to a CSV file\n",
    "if response.status_code == 200:\n",
    "    data = response.json()\n",
    "    with open('pokemon_list.csv', 'w', newline='', encoding='utf-8') as csvfile:\n",
    "        writer = csv.writer(csvfile)\n",
    "        writer.writerow(['name', 'url'])  # Write header\n",
    "        for pokemon in data[\"results\"]:\n",
    "            writer.writerow([pokemon[\"name\"], pokemon[\"url\"]])\n",
    "    print(\"Data saved to pokemon_list.csv\")\n",
    "else:\n",
    "    print(\"Error:\", response.status_code)"
   ]
  },
  {
   "cell_type": "code",
   "execution_count": 9,
   "id": "182cde79",
   "metadata": {},
   "outputs": [
    {
     "data": {
      "text/plain": [
       "{'count': 1302,\n",
       " 'next': 'https://pokeapi.co/api/v2/pokemon?offset=10&limit=10',\n",
       " 'previous': None,\n",
       " 'results': [{'name': 'bulbasaur',\n",
       "   'url': 'https://pokeapi.co/api/v2/pokemon/1/'},\n",
       "  {'name': 'ivysaur', 'url': 'https://pokeapi.co/api/v2/pokemon/2/'},\n",
       "  {'name': 'venusaur', 'url': 'https://pokeapi.co/api/v2/pokemon/3/'},\n",
       "  {'name': 'charmander', 'url': 'https://pokeapi.co/api/v2/pokemon/4/'},\n",
       "  {'name': 'charmeleon', 'url': 'https://pokeapi.co/api/v2/pokemon/5/'},\n",
       "  {'name': 'charizard', 'url': 'https://pokeapi.co/api/v2/pokemon/6/'},\n",
       "  {'name': 'squirtle', 'url': 'https://pokeapi.co/api/v2/pokemon/7/'},\n",
       "  {'name': 'wartortle', 'url': 'https://pokeapi.co/api/v2/pokemon/8/'},\n",
       "  {'name': 'blastoise', 'url': 'https://pokeapi.co/api/v2/pokemon/9/'},\n",
       "  {'name': 'caterpie', 'url': 'https://pokeapi.co/api/v2/pokemon/10/'}]}"
      ]
     },
     "execution_count": 9,
     "metadata": {},
     "output_type": "execute_result"
    }
   ],
   "source": [
    "#Direct way to pull JSON format: \n",
    "\n",
    "url = \"https://pokeapi.co/api/v2/pokemon?limit=10\"  # Get first 10 Pokémon\n",
    "response = requests.get(url)\n",
    "response.json()"
   ]
  },
  {
   "cell_type": "code",
   "execution_count": 15,
   "id": "9b0a4db4",
   "metadata": {},
   "outputs": [
    {
     "data": {
      "text/plain": [
       "{'resources': {'code_search': {'limit': 60,\n",
       "   'remaining': 60,\n",
       "   'reset': 1755246437,\n",
       "   'used': 0,\n",
       "   'resource': 'code_search'},\n",
       "  'core': {'limit': 60,\n",
       "   'remaining': 60,\n",
       "   'reset': 1755246437,\n",
       "   'used': 0,\n",
       "   'resource': 'core'},\n",
       "  'graphql': {'limit': 0,\n",
       "   'remaining': 0,\n",
       "   'reset': 1755246437,\n",
       "   'used': 0,\n",
       "   'resource': 'graphql'},\n",
       "  'integration_manifest': {'limit': 5000,\n",
       "   'remaining': 5000,\n",
       "   'reset': 1755246437,\n",
       "   'used': 0,\n",
       "   'resource': 'integration_manifest'},\n",
       "  'search': {'limit': 10,\n",
       "   'remaining': 10,\n",
       "   'reset': 1755242897,\n",
       "   'used': 0,\n",
       "   'resource': 'search'}},\n",
       " 'rate': {'limit': 60,\n",
       "  'remaining': 60,\n",
       "  'reset': 1755246437,\n",
       "  'used': 0,\n",
       "  'resource': 'core'}}"
      ]
     },
     "execution_count": 15,
     "metadata": {},
     "output_type": "execute_result"
    }
   ],
   "source": [
    "#To check the rate limit for streaming data from websites\n",
    "url = \"https://api.github.com/rate_limit\"\n",
    "requests.get(url).json()"
   ]
  },
  {
   "cell_type": "code",
   "execution_count": null,
   "id": "64021498",
   "metadata": {},
   "outputs": [],
   "source": []
  },
  {
   "cell_type": "code",
   "execution_count": null,
   "id": "8dd8bdfa",
   "metadata": {},
   "outputs": [],
   "source": []
  },
  {
   "cell_type": "code",
   "execution_count": null,
   "metadata": {},
   "outputs": [],
   "source": []
  },
  {
   "cell_type": "code",
   "execution_count": null,
   "metadata": {},
   "outputs": [],
   "source": []
  },
  {
   "cell_type": "code",
   "execution_count": null,
   "metadata": {},
   "outputs": [],
   "source": []
  },
  {
   "cell_type": "code",
   "execution_count": null,
   "metadata": {},
   "outputs": [],
   "source": []
  }
 ],
 "metadata": {
  "kernelspec": {
   "display_name": "Python 3",
   "language": "python",
   "name": "python3"
  },
  "language_info": {
   "codemirror_mode": {
    "name": "ipython",
    "version": 3
   },
   "file_extension": ".py",
   "mimetype": "text/x-python",
   "name": "python",
   "nbconvert_exporter": "python",
   "pygments_lexer": "ipython3",
   "version": "3.12.0"
  }
 },
 "nbformat": 4,
 "nbformat_minor": 5
}
